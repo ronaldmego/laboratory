{
 "cells": [
  {
   "cell_type": "code",
   "execution_count": 3,
   "metadata": {},
   "outputs": [
    {
     "name": "stdout",
     "output_type": "stream",
     "text": [
      "content='{ \"gganimate\" : \"extends the grammar of graphics implemented by ggplot2 to include animation, allowing customization of plot changes over time through new grammar classes added to the plot object.\" }' response_metadata={'model': 'llama3', 'created_at': '2024-06-03T02:49:01.1545161Z', 'message': {'role': 'assistant', 'content': ''}, 'done_reason': 'stop', 'done': True, 'total_duration': 2905975400, 'load_duration': 10613800, 'prompt_eval_count': 114, 'prompt_eval_duration': 1285264000, 'eval_count': 40, 'eval_duration': 1604980000} id='run-a1704e4e-ef0a-4fbf-8775-10e8d143e689-0'\n"
     ]
    }
   ],
   "source": [
    "from langchain_community.chat_models import ChatOllama\n",
    "\n",
    "llm = ChatOllama(model=\"llama3\", format=\"json\", temperature=0)\n",
    "\n",
    "#################\n",
    "\n",
    "from langchain_core.messages import HumanMessage\n",
    "\n",
    "messages = [\n",
    "    HumanMessage(\n",
    "        content=\"summarize this in one sentense:'gganimate extends the grammar of graphics as implemented by ggplot2 to include the description of animation. It does this by providing a range of new grammar classes that can be added to the plot object in order to customise how it should change with time. All of the above might seem a bit abstract. Let’s try with a contrived example:  Here we take a simple boxplot of fuel consumption as a function of cylinders and lets it transition between the number of gears available in the cars. As this is'\"\n",
    "    )\n",
    "]\n",
    "\n",
    "chat_model_response = llm.invoke(messages)\n",
    "print(chat_model_response)"
   ]
  }
 ],
 "metadata": {
  "kernelspec": {
   "display_name": "Python 3",
   "language": "python",
   "name": "python3"
  },
  "language_info": {
   "codemirror_mode": {
    "name": "ipython",
    "version": 3
   },
   "file_extension": ".py",
   "mimetype": "text/x-python",
   "name": "python",
   "nbconvert_exporter": "python",
   "pygments_lexer": "ipython3",
   "version": "3.12.3"
  }
 },
 "nbformat": 4,
 "nbformat_minor": 2
}
