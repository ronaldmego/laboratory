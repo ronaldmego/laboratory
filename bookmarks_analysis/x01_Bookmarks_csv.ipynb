{
 "cells": [
  {
   "cell_type": "code",
   "execution_count": 2,
   "metadata": {},
   "outputs": [
    {
     "name": "stdout",
     "output_type": "stream",
     "text": [
      "Bookmarks have been successfully written to C:\\Users\\ronal\\OneDrive\\Documentos\\APPs\\Favorites_analysis\\Favorites_data\\bookmarks.csv\n"
     ]
    }
   ],
   "source": [
    "import csv\n",
    "from bs4 import BeautifulSoup\n",
    "import os\n",
    "\n",
    "def parse_bookmarks(html_file):\n",
    "    with open(html_file, 'r', encoding='utf-8') as file:\n",
    "        soup = BeautifulSoup(file, 'html.parser')\n",
    "\n",
    "    bookmarks = []\n",
    "\n",
    "    def traverse_folders(parent):\n",
    "        if parent is None:\n",
    "            return\n",
    "        for item in parent.find_all(['dt']):\n",
    "            h3_tag = item.find('h3')\n",
    "            a_tag = item.find('a')\n",
    "\n",
    "            if h3_tag:\n",
    "                traverse_folders(item.find_next_sibling('dl'))\n",
    "            elif a_tag:\n",
    "                link = a_tag\n",
    "                url = link.get('href')\n",
    "                title = link.text\n",
    "                add_date = link.get('add_date')\n",
    "                last_visit = link.get('last_visit')\n",
    "                last_modified = link.get('last_modified')\n",
    "                meta_info = {\n",
    "                    'Title': title,\n",
    "                    'Added Date': add_date,\n",
    "                    'Last Visit': last_visit,\n",
    "                    'Last Modified': last_modified,\n",
    "                    'URL': url\n",
    "                }\n",
    "                bookmarks.append(meta_info)\n",
    "\n",
    "    root_dl = soup.find('dl')\n",
    "    if root_dl is None:\n",
    "        print(\"No <dl> tag found in the document.\")\n",
    "        return bookmarks\n",
    "\n",
    "    traverse_folders(root_dl)\n",
    "    return bookmarks\n",
    "\n",
    "def write_to_csv(bookmarks, output_file):\n",
    "    with open(output_file, 'w', newline='', encoding='utf-8') as csvfile:\n",
    "        fieldnames = ['Title', 'Added Date', 'Last Visit', 'Last Modified', 'URL']\n",
    "        #fieldnames = ['URL','Title']\n",
    "        writer = csv.DictWriter(csvfile, fieldnames=fieldnames)\n",
    "\n",
    "        writer.writeheader()\n",
    "        for bookmark in bookmarks:\n",
    "            writer.writerow(bookmark)\n",
    "\n",
    "if __name__ == \"__main__\":\n",
    "    html_file = r\"C:\\Users\\ronal\\OneDrive\\Documentos\\APPs\\Favorites_analysis\\data\\favorites_6_1_24.html\"\n",
    "    output_file = os.path.join(os.path.dirname(html_file), \"bookmarks.csv\")\n",
    "    \n",
    "    bookmarks = parse_bookmarks(html_file)\n",
    "    write_to_csv(bookmarks, output_file)\n",
    "\n",
    "    print(f\"Bookmarks have been successfully written to {output_file}\")\n"
   ]
  }
 ],
 "metadata": {
  "kernelspec": {
   "display_name": "Python 3",
   "language": "python",
   "name": "python3"
  },
  "language_info": {
   "codemirror_mode": {
    "name": "ipython",
    "version": 3
   },
   "file_extension": ".py",
   "mimetype": "text/x-python",
   "name": "python",
   "nbconvert_exporter": "python",
   "pygments_lexer": "ipython3",
   "version": "3.12.3"
  }
 },
 "nbformat": 4,
 "nbformat_minor": 2
}
