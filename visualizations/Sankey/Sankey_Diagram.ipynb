{
 "cells": [
  {
   "cell_type": "code",
   "execution_count": 5,
   "metadata": {},
   "outputs": [],
   "source": [
    "import plotly.graph_objects as go\n",
    "\n",
    "# Define the nodes\n",
    "nodes = [\n",
    "    \"Income Tax\", \"Value Added Tax\", \"Income from Pemex\", \"Special Tax\", \"Social Security Fees\", \"Income from CFE\", \"Other revenues\", \"Other taxes\",\n",
    "    \"Total Federal Revenue\", \"Total Federal Spending\", \"Deficit\", \"Social Protection\", \"Financial Cost of Debt\", \"Federal Entities\",\n",
    "    \"Economic Development: Fuels and Energy\", \"Education\", \"Health\", \"Government\"\n",
    "]\n",
    "\n",
    "# Define the links (flows)\n",
    "links = {\n",
    "    \"source\": [0, 1, 2, 3, 4, 5, 6, 7, 8, 8, 8, 9, 9, 9, 9, 9, 9, 9],  # source nodes\n",
    "    \"target\": [8, 8, 8, 8, 8, 8, 8, 8, 9, 9, 9, 10, 11, 12, 13, 14, 15, 16],  # target nodes\n",
    "    \"value\": [159, 78, 45.2, 40.4, 31.4, 26.2, 21, 12.5, 429.9, 101.9, 101.9, 120.9, 74.1, 74.1, 64.6, 58.4, 56.4, 31.7]  # values\n",
    "}\n",
    "\n",
    "# Create the figure\n",
    "fig = go.Figure(data=[go.Sankey(\n",
    "    node=dict(\n",
    "        pad=15,\n",
    "        thickness=20,\n",
    "        line=dict(color=\"black\", width=0.5),\n",
    "        label=nodes,\n",
    "        color=\"blue\"\n",
    "    ),\n",
    "    link=dict(\n",
    "        source=links['source'],\n",
    "        target=links['target'],\n",
    "        value=links['value'],\n",
    "        color=\"rgba(31, 119, 180, 0.8)\"\n",
    "    ))])\n",
    "\n",
    "# Set the title\n",
    "fig.update_layout(title_text=\"How does Mexico's govt. make and spend its money?\", font_size=10)\n",
    "\n",
    "# Show the figure\n",
    "fig.write_html(\"sankey_diagram.html\")\n",
    "\n"
   ]
  }
 ],
 "metadata": {
  "kernelspec": {
   "display_name": "Python 3",
   "language": "python",
   "name": "python3"
  },
  "language_info": {
   "codemirror_mode": {
    "name": "ipython",
    "version": 3
   },
   "file_extension": ".py",
   "mimetype": "text/x-python",
   "name": "python",
   "nbconvert_exporter": "python",
   "pygments_lexer": "ipython3",
   "version": "3.12.3"
  }
 },
 "nbformat": 4,
 "nbformat_minor": 2
}
